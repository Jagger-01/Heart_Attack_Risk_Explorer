{
 "cells": [
  {
   "cell_type": "code",
   "execution_count": 1,
   "id": "78e135c2-25cd-4547-a934-796892f7e511",
   "metadata": {},
   "outputs": [],
   "source": [
    "import pandas as pd"
   ]
  },
  {
   "cell_type": "code",
   "execution_count": 2,
   "id": "e2e0f6c5-9622-4244-b965-28bb0d618567",
   "metadata": {},
   "outputs": [],
   "source": [
    "# Load the dataset\n",
    "file_path = '../Data/heart_attack_dataset.csv'\n",
    "df = pd.read_csv(file_path)"
   ]
  },
  {
   "cell_type": "code",
   "execution_count": 3,
   "id": "b063e050-0585-417f-9bd9-bbd7cf22e95d",
   "metadata": {},
   "outputs": [
    {
     "name": "stdout",
     "output_type": "stream",
     "text": [
      "Summary of the dataset:\n",
      "<class 'pandas.core.frame.DataFrame'>\n",
      "RangeIndex: 1000 entries, 0 to 999\n",
      "Data columns (total 8 columns):\n",
      " #   Column                 Non-Null Count  Dtype \n",
      "---  ------                 --------------  ----- \n",
      " 0   Gender                 1000 non-null   object\n",
      " 1   Age                    1000 non-null   int64 \n",
      " 2   Blood Pressure (mmHg)  1000 non-null   int64 \n",
      " 3   Cholesterol (mg/dL)    1000 non-null   int64 \n",
      " 4   Has Diabetes           1000 non-null   object\n",
      " 5   Smoking Status         1000 non-null   object\n",
      " 6   Chest Pain Type        1000 non-null   object\n",
      " 7   Treatment              1000 non-null   object\n",
      "dtypes: int64(3), object(5)\n",
      "memory usage: 62.6+ KB\n",
      "None\n",
      "\n",
      "\n"
     ]
    }
   ],
   "source": [
    "# Summary of the dataset\n",
    "print(\"Summary of the dataset:\")\n",
    "print(df.info())\n",
    "print(\"\\n\")"
   ]
  },
  {
   "cell_type": "code",
   "execution_count": 4,
   "id": "df3f4358-a3a5-4802-b361-7d2753c3f75f",
   "metadata": {},
   "outputs": [
    {
     "name": "stdout",
     "output_type": "stream",
     "text": [
      "Missing values in each column:\n",
      "Gender                   0\n",
      "Age                      0\n",
      "Blood Pressure (mmHg)    0\n",
      "Cholesterol (mg/dL)      0\n",
      "Has Diabetes             0\n",
      "Smoking Status           0\n",
      "Chest Pain Type          0\n",
      "Treatment                0\n",
      "dtype: int64\n",
      "\n",
      "\n"
     ]
    }
   ],
   "source": [
    "# Check for missing values\n",
    "print(\"Missing values in each column:\")\n",
    "print(df.isnull().sum())\n",
    "print(\"\\n\")"
   ]
  },
  {
   "cell_type": "code",
   "execution_count": 5,
   "id": "6896b4a5-06b4-48bb-9295-6d101a6edafd",
   "metadata": {},
   "outputs": [
    {
     "name": "stdout",
     "output_type": "stream",
     "text": [
      "Number of duplicate rows in the dataset:\n",
      "0\n",
      "\n",
      "\n"
     ]
    }
   ],
   "source": [
    "# Check for duplicates\n",
    "print(\"Number of duplicate rows in the dataset:\")\n",
    "print(df.duplicated().sum())\n",
    "print(\"\\n\")"
   ]
  },
  {
   "cell_type": "code",
   "execution_count": 6,
   "id": "60c9ca5f-c11f-4730-999f-7cd77de04b6b",
   "metadata": {},
   "outputs": [
    {
     "name": "stdout",
     "output_type": "stream",
     "text": [
      "Summary statistics for numerical columns:\n",
      "               Age  Blood Pressure (mmHg)  Cholesterol (mg/dL)\n",
      "count  1000.000000            1000.000000          1000.000000\n",
      "mean     60.338000             145.440000           223.789000\n",
      "std      17.317496              31.756525            42.787817\n",
      "min      30.000000              90.000000           150.000000\n",
      "25%      45.000000             118.000000           185.000000\n",
      "50%      60.500000             146.000000           225.500000\n",
      "75%      76.000000             173.000000           259.000000\n",
      "max      89.000000             199.000000           299.000000\n",
      "\n",
      "\n"
     ]
    }
   ],
   "source": [
    "# Check for invalid or outlier values (e.g., negative ages, extremely high/low blood pressure)\n",
    "print(\"Summary statistics for numerical columns:\")\n",
    "print(df.describe())\n",
    "print(\"\\n\")"
   ]
  },
  {
   "cell_type": "code",
   "execution_count": 7,
   "id": "36ff5b81-a059-42c2-8322-bcd919556eee",
   "metadata": {},
   "outputs": [
    {
     "name": "stdout",
     "output_type": "stream",
     "text": [
      "Unique values in categorical columns:\n",
      "\n",
      "Gender:\n",
      "['Male' 'Female']\n",
      "\n",
      "Smoking Status:\n",
      "['Never' 'Current' 'Former']\n",
      "\n",
      "Chest Pain Type:\n",
      "['Typical Angina' 'Atypical Angina' 'Non-anginal Pain' 'Asymptomatic']\n",
      "\n",
      "Treatment:\n",
      "['Lifestyle Changes' 'Angioplasty' 'Coronary Artery Bypass Graft (CABG)'\n",
      " 'Medication']\n"
     ]
    }
   ],
   "source": [
    "# Check for any unexpected values in categorical columns\n",
    "print(\"Unique values in categorical columns:\")\n",
    "categorical_columns = ['Gender', 'Smoking Status', 'Chest Pain Type', 'Treatment']\n",
    "for col in categorical_columns:\n",
    "    print(f\"\\n{col}:\")\n",
    "    print(df[col].unique())"
   ]
  },
  {
   "cell_type": "code",
   "execution_count": 8,
   "id": "9c087b1b-c091-42d4-8f2c-767dd72fe6d9",
   "metadata": {},
   "outputs": [
    {
     "name": "stdout",
     "output_type": "stream",
     "text": [
      "\n",
      "Data types of each column:\n",
      "Gender                   object\n",
      "Age                       int64\n",
      "Blood Pressure (mmHg)     int64\n",
      "Cholesterol (mg/dL)       int64\n",
      "Has Diabetes             object\n",
      "Smoking Status           object\n",
      "Chest Pain Type          object\n",
      "Treatment                object\n",
      "dtype: object\n",
      "\n",
      "\n"
     ]
    }
   ],
   "source": [
    "# Check for any inconsistent data types\n",
    "print(\"\\nData types of each column:\")\n",
    "print(df.dtypes)\n",
    "print(\"\\n\")"
   ]
  }
 ],
 "metadata": {
  "kernelspec": {
   "display_name": "Python 3 (ipykernel)",
   "language": "python",
   "name": "python3"
  },
  "language_info": {
   "codemirror_mode": {
    "name": "ipython",
    "version": 3
   },
   "file_extension": ".py",
   "mimetype": "text/x-python",
   "name": "python",
   "nbconvert_exporter": "python",
   "pygments_lexer": "ipython3",
   "version": "3.10.6"
  }
 },
 "nbformat": 4,
 "nbformat_minor": 5
}
