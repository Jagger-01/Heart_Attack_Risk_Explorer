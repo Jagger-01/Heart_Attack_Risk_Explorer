{
 "cells": [
  {
   "cell_type": "code",
   "execution_count": 12,
   "id": "00f894b5-8b39-4d60-9a97-f420cd6c3e66",
   "metadata": {},
   "outputs": [],
   "source": [
    "import pandas as pd"
   ]
  },
  {
   "cell_type": "code",
   "execution_count": 13,
   "id": "01ba0c1c-32ea-4549-837e-25955648c74c",
   "metadata": {},
   "outputs": [],
   "source": [
    "# Load the dataset\n",
    "file_path = '../Data/heart_attack_dataset.csv'\n",
    "df = pd.read_csv(file_path)"
   ]
  },
  {
   "cell_type": "code",
   "execution_count": 14,
   "id": "9a6900ed-85ba-4b82-8a4b-c07ec8c2d850",
   "metadata": {},
   "outputs": [],
   "source": [
    "# 1. Age Group\n",
    "def age_group(age):\n",
    "    if age < 20:\n",
    "        return \"<20\"\n",
    "    elif 20 <= age < 30:\n",
    "        return \"20-29\"\n",
    "    elif 30 <= age < 40:\n",
    "        return \"30-39\"\n",
    "    elif 40 <= age < 50:\n",
    "        return \"40-49\"\n",
    "    elif 50 <= age < 60:\n",
    "        return \"50-59\"\n",
    "    elif 60 <= age < 70:\n",
    "        return \"60-69\"\n",
    "    elif 70 <= age < 80:\n",
    "        return \"70-79\"\n",
    "    else:\n",
    "        return \"80+\"\n",
    "\n",
    "df['Age Group'] = df['Age'].apply(age_group)"
   ]
  },
  {
   "cell_type": "code",
   "execution_count": 15,
   "id": "0b35f2f6-a311-486b-afbe-dfa4ebb3ef13",
   "metadata": {},
   "outputs": [],
   "source": [
    "# 2. Cholesterol Level Category\n",
    "def cholesterol_category(cholesterol):\n",
    "    if cholesterol < 200:\n",
    "        return \"Low\"\n",
    "    elif 200 <= cholesterol < 240:\n",
    "        return \"Borderline High\"\n",
    "    else:\n",
    "        return \"High\"\n",
    "\n",
    "df['Cholesterol Level Category'] = df['Cholesterol (mg/dL)'].apply(cholesterol_category)"
   ]
  },
  {
   "cell_type": "code",
   "execution_count": 16,
   "id": "b1cfbf23-bd30-4f65-be44-2f80375601a2",
   "metadata": {},
   "outputs": [],
   "source": [
    "# 3. Blood Pressure Category\n",
    "def bp_category(bp):\n",
    "    if bp < 120:\n",
    "        return \"Normal\"\n",
    "    elif 120 <= bp < 130:\n",
    "        return \"Elevated\"\n",
    "    elif 130 <= bp < 140:\n",
    "        return \"High Blood Pressure Stage 1\"\n",
    "    else:\n",
    "        return \"High Blood Pressure Stage 2\"\n",
    "\n",
    "df['Blood Pressure Category'] = df['Blood Pressure (mmHg)'].apply(bp_category)"
   ]
  },
  {
   "cell_type": "code",
   "execution_count": 17,
   "id": "92ba757a-35f4-4941-8bd1-98ddbc5963c8",
   "metadata": {},
   "outputs": [],
   "source": [
    "# 4. Risk Score\n",
    "def risk_score(row):\n",
    "    score = 0\n",
    "    if row['Cholesterol (mg/dL)'] > 240:\n",
    "        score += 1\n",
    "    if row['Blood Pressure (mmHg)'] >= 140:\n",
    "        score += 1\n",
    "    if row['Has Diabetes'] == 1:\n",
    "        score += 1\n",
    "    if row['Smoking Status'] == 'Current':\n",
    "        score += 1\n",
    "    return score\n",
    "\n",
    "df['Risk Score'] = df.apply(risk_score, axis=1)"
   ]
  },
  {
   "cell_type": "code",
   "execution_count": 18,
   "id": "88622be3-8d6a-4465-9a89-fe2c872f0dc2",
   "metadata": {},
   "outputs": [],
   "source": [
    "# 5. Heart Health Status\n",
    "def heart_health_status(row):\n",
    "    bp_cat = row['Blood Pressure Category']\n",
    "    chol_cat = row['Cholesterol Level Category']\n",
    "    if bp_cat == \"Normal\" and chol_cat == \"Low\":\n",
    "        return \"Healthy\"\n",
    "    elif bp_cat == \"Elevated\" or chol_cat == \"Borderline High\":\n",
    "        return \"At Risk\"\n",
    "    else:\n",
    "        return \"Unhealthy\"\n",
    "\n",
    "df['Heart Health Status'] = df.apply(heart_health_status, axis=1)"
   ]
  },
  {
   "cell_type": "code",
   "execution_count": 19,
   "id": "b3c3ef6d-7058-42c3-b3c8-c3c8cbd8ead4",
   "metadata": {},
   "outputs": [],
   "source": [
    "# 6. Lifestyle Modification Necessity\n",
    "df['Lifestyle Modification Necessity'] = df.apply(lambda x: 'Yes' if x['Risk Score'] >= 2 or x['Smoking Status'] == 'Current' else 'No', axis=1)"
   ]
  },
  {
   "cell_type": "code",
   "execution_count": 20,
   "id": "e8d96706-4845-4a33-a723-747393a38d95",
   "metadata": {},
   "outputs": [],
   "source": [
    "# 7. Treatment Effectiveness Category\n",
    "def treatment_effectiveness(row):\n",
    "    if row['Chest Pain Type'] == 'Typical Angina' and row['Treatment'] == 'Lifestyle Changes':\n",
    "        return \"High\"\n",
    "    elif row['Chest Pain Type'] == 'Atypical Angina' and row['Treatment'] == 'Medication':\n",
    "        return \"Moderate\"\n",
    "    else:\n",
    "        return \"Low\"\n",
    "\n",
    "df['Treatment Effectiveness Category'] = df.apply(treatment_effectiveness, axis=1)"
   ]
  },
  {
   "cell_type": "code",
   "execution_count": 21,
   "id": "cf027161-0675-45af-a67f-ded0a2274a44",
   "metadata": {},
   "outputs": [],
   "source": [
    "# 8. Create a Unique Identifier (Patient ID)\n",
    "df['Patient ID'] = range(1, len(df) + 1)"
   ]
  },
  {
   "cell_type": "code",
   "execution_count": 22,
   "id": "37c004a8-d555-46c5-92a2-0e023bccc477",
   "metadata": {},
   "outputs": [
    {
     "name": "stdout",
     "output_type": "stream",
     "text": [
      "New columns added and saved to ../Data/heart_attack_dataset_updated.csv\n"
     ]
    }
   ],
   "source": [
    "# Save the updated dataframe to a new CSV file\n",
    "output_path = '../Data/heart_attack_dataset_updated.csv'  # Update this path if needed\n",
    "df.to_csv(output_path, index=False)\n",
    "\n",
    "print(\"New columns added and saved to\", output_path)"
   ]
  }
 ],
 "metadata": {
  "kernelspec": {
   "display_name": "Python 3 (ipykernel)",
   "language": "python",
   "name": "python3"
  },
  "language_info": {
   "codemirror_mode": {
    "name": "ipython",
    "version": 3
   },
   "file_extension": ".py",
   "mimetype": "text/x-python",
   "name": "python",
   "nbconvert_exporter": "python",
   "pygments_lexer": "ipython3",
   "version": "3.10.6"
  }
 },
 "nbformat": 4,
 "nbformat_minor": 5
}
